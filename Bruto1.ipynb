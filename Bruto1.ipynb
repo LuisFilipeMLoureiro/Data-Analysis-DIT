{
 "cells": [
  {
   "cell_type": "code",
   "execution_count": 20,
   "metadata": {},
   "outputs": [],
   "source": [
    "#Importando as bibliotecas necessárias\n",
    "%matplotlib inline\n",
    "import pandas as pd\n",
    "import matplotlib.pyplot as plt\n",
    "import numpy as np"
   ]
  },
  {
   "cell_type": "code",
   "execution_count": 21,
   "metadata": {},
   "outputs": [],
   "source": [
    "\n",
    "pib=pd.read_excel('gdp_per_year.xlsx') #PIB em dolares com inflacao ajustada \n",
    "agri_porc = pd.read_excel('AgriculturepforGDP.xlsx') #Porcentagem do PIB que corresponde à agricultura\n",
    "hightech_export = pd.read_excel('high_tech_export.xlsx') #Porcentagem da comercialização de bens de manofatura que corresponde a bens hightech\n",
    "education = pd.read_excel('education.xlsx') #Porcentagem de gasto por estudante do PIBpercapta\n",
    "democracia=pd.read_excel('democracia.xlsx') #índice da qualidade da democracia por país"
   ]
  },
  {
   "cell_type": "code",
   "execution_count": 22,
   "metadata": {},
   "outputs": [],
   "source": [
    "#Há duas maneiras de adicionar as colunas OCDE e BRICS, transformando em index ou nao\n",
    "\n",
    "#Maneira 1 (não adotada)\n",
    "\n",
    "\n",
    "#pib.loc[(pib.Country == \"Brazil\") | (pib.Country == \"China\")| (pib.Country == \"India\") | (pib.Country == \"South Africa\")| (pib.Country == \"Russia\"), \"BRICS\" ] = 1\n",
    "\n",
    "#pib.Country[pib.BRICS==1] #teste\n",
    "\n",
    "#pib.loc[(pib.Country == \"United States\") | (pib.Country == \"United Kingdom\")| (pib.Country == \"Turkey\") | (pib.Country == \"Switzerland\")| (pib.Country == \"Sweden\")| (pib.Country == \"Spain\")| (pib.Country == \"Slovenia\")| (pib.Country == \"Slovak Republic\")| (pib.Country == \"Portugal\")| (pib.Country == \"Poland\")| (pib.Country == \"Norway\")| (pib.Country == \"New Zealand\")| (pib.Country == \"Netherlands\")| (pib.Country == \"Mexico\")| (pib.Country == \"Luxembourg\")| (pib.Country == \"Lithuania\")| (pib.Country == \"Latvia\")| (pib.Country == \"South Korea\")| (pib.Country == \"Japan\")| (pib.Country == \"Italy\")| (pib.Country == \"Israel\")| (pib.Country == \"Ireland\")| (pib.Country == \"Iceland\")| (pib.Country == \"Hungary\")| (pib.Country == \"Greece\")| (pib.Country == \"Germany\")| (pib.Country == \"France\")| (pib.Country == \"Finland\")| (pib.Country == \"Estonia\")| (pib.Country == \"Denmark\")| (pib.Country == \"Czech Republic\")| (pib.Country == \"Chile\")| (pib.Country == \"Canada\")| (pib.Country == \"Belgium\")| (pib.Country == \"Austria\")| (pib.Country == \"Australia\"), \"OCDE\" ] = 1"
   ]
  },
  {
   "cell_type": "code",
   "execution_count": 23,
   "metadata": {},
   "outputs": [],
   "source": [
    "pib_idx = pib.set_index('Country')\n",
    "agri_idx = agri_porc.set_index(\"Country\")\n",
    "hightech_idx = hightech_export.set_index('Country')\n",
    "education_idx = education.set_index(\"Country\")\n",
    "democracia_idx = democracia.set_index(\"Country\")\n"
   ]
  },
  {
   "cell_type": "code",
   "execution_count": 24,
   "metadata": {},
   "outputs": [],
   "source": [
    "#Maneira 2 (adotada)\n",
    "#Criando a coluna BRICS \n",
    "pib_idx[\"BRICS\"] = 0\n",
    "ls =[\"Brazil\", \"China\",\"India\",\"South Africa\", \"Russia\"]\n",
    "pib_idx.loc[ls, \"BRICS\" ] = 1\n",
    "\n",
    "#pib_idx.loc[pib_idx[\"BRICS\"] == 1] teste\n",
    "\n",
    "#Criando a coluna OCDE\n",
    "\n",
    "pib_idx[\"OCDE\"]=0\n",
    "\n",
    "ps = [ \"United States\",\"United Kingdom\", \"Turkey\", \"Switzerland\", \"Sweden\", \"Spain\", \"Slovenia\", \"Slovak Republic\", \"Portugal\", \"Poland\", \"Norway\", \"New Zealand\",\"Netherlands\", \"Mexico\", \"Luxembourg\", \"Lithuania\", \"Latvia\", \"Japan\", \"Italy\", \"Israel\", \"Ireland\", \"Iceland\", \"Hungary\", \"Greece\", \"Germany\", \"France\", \"Finland\", \"Estonia\", \"Denmark\", \"Czech Rep.\", \"Chile\", \"Canada\", \"Belgium\", \"Austria\", \"Australia\"]\n",
    "\n",
    "pib_idx.loc[ps,\"OCDE\"]=1\n",
    "\n",
    "\n",
    "#pib_idx.loc[pib_idx.OCDE==1] teste"
   ]
  },
  {
   "cell_type": "code",
   "execution_count": 25,
   "metadata": {},
   "outputs": [],
   "source": [
    "#Criando a coluna OCDE\n",
    "\n",
    "pib_idx[\"OCDE\"]=0\n",
    "ps = [ \"United States\",\"United Kingdom\", \"Turkey\", \"Switzerland\", \"Sweden\", \"Spain\", \"Slovenia\", \"Slovak Republic\", \"Portugal\", \"Poland\", \"Norway\", \"New Zealand\",\"Netherlands\", \"Mexico\", \"Luxembourg\", \"Lithuania\", \"Latvia\", \"Japan\", \"Italy\", \"Israel\", \"Ireland\", \"Iceland\", \"Hungary\", \"Greece\", \"Germany\", \"France\", \"Finland\", \"Estonia\", \"Denmark\", \"Czech Rep.\", \"Chile\", \"Canada\", \"Belgium\", \"Austria\", \"Australia\"]\n",
    "\n",
    "pib_idx.loc[ps,\"OCDE\"]=1\n",
    "\n",
    "\n",
    "#pib_idx.loc[pib_idx.OCDE==1] teste"
   ]
  },
  {
   "cell_type": "code",
   "execution_count": 27,
   "metadata": {},
   "outputs": [
    {
     "data": {
      "image/png": "[encoded data removed]",
      "text/plain": [
       "<Figure size 432x288 with 1 Axes>"
      ]
     },
     "metadata": {
      "needs_background": "light"
     },
     "output_type": "display_data"
    }
   ],
   "source": [
    "\n",
    "anos = np.arange(1987, 2011, 1)\n",
    "\n",
    "\n",
    "pib_ocde = pib_idx.loc[pib_idx.OCDE ==1].loc[:, anos]\n",
    "\n",
    "pib_brics =pib_idx.loc[pib_idx.BRICS==1].loc[:,anos]\n",
    "\n",
    "\n",
    "\n",
    "pib_ocde.mean().plot()\n",
    "plt.plot(pib_brics.mean())\n",
    "pib_idx.describe()\n",
    "\n",
    "\n",
    "plt.show()\n"
   ]
  },
  {
   "cell_type": "code",
   "execution_count": null,
   "metadata": {},
   "outputs": [],
   "source": []
  },
  {
   "cell_type": "code",
   "execution_count": null,
   "metadata": {},
   "outputs": [],
   "source": []
  }
 ],
 "metadata": {
  "kernelspec": {
   "display_name": "Python 3",
   "language": "python",
   "name": "python3"
  },
  "language_info": {
   "codemirror_mode": {
    "name": "ipython",
    "version": 3
   },
   "file_extension": ".py",
   "mimetype": "text/x-python",
   "name": "python",
   "nbconvert_exporter": "python",
   "pygments_lexer": "ipython3",
   "version": "3.7.1"
  }
 },
 "nbformat": 4,
 "nbformat_minor": 2
}
